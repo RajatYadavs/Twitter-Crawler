{
  "metadata": {
    "language_info": {
      "codemirror_mode": {
        "name": "python",
        "version": 3
      },
      "file_extension": ".py",
      "mimetype": "text/x-python",
      "name": "python",
      "nbconvert_exporter": "python",
      "pygments_lexer": "ipython3",
      "version": "3.8"
    },
    "kernelspec": {
      "name": "python",
      "display_name": "Python (Pyodide)",
      "language": "python"
    }
  },
  "nbformat_minor": 4,
  "nbformat": 4,
  "cells": [
    {
      "cell_type": "code",
      "source": "import pandas as pd\nimport tweepy",
      "metadata": {
        "trusted": true
      },
      "execution_count": 2,
      "outputs": [
        {
          "ename": "<class 'ModuleNotFoundError'>",
          "evalue": "No module named 'tweepy'",
          "traceback": [
            "\u001b[0;31m---------------------------------------------------------------------------\u001b[0m",
            "\u001b[0;31mModuleNotFoundError\u001b[0m                       Traceback (most recent call last)",
            "Cell \u001b[0;32mIn[2], line 2\u001b[0m\n\u001b[1;32m      1\u001b[0m \u001b[38;5;28;01mimport\u001b[39;00m \u001b[38;5;21;01mpandas\u001b[39;00m \u001b[38;5;28;01mas\u001b[39;00m \u001b[38;5;21;01mpd\u001b[39;00m\n\u001b[0;32m----> 2\u001b[0m \u001b[38;5;28;01mimport\u001b[39;00m \u001b[38;5;21;01mtweepy\u001b[39;00m\n",
            "\u001b[0;31mModuleNotFoundError\u001b[0m: No module named 'tweepy'"
          ],
          "output_type": "error"
        }
      ]
    },
    {
      "cell_type": "code",
      "source": "def printtweetdata(n, ith_tweet):\n        print()\n        print(f\"Tweet {n}:\")\n        print(f\"hashtag:{ith_tweet[0]}\")\n        print(f\"location:{ith_tweet[1]}\")\n        print(f\"Location:{ith_tweet[2]}\")\n        print(f\"time:{ith_tweet[3]}\")",
      "metadata": {
        "trusted": true
      },
      "execution_count": 7,
      "outputs": []
    },
    {
      "cell_type": "code",
      "source": "# function to perform data extraction\ndef scrape(location, duration, keywordSearch):\n \n        # Creating DataFrame using pandas\n        db = pd.DataFrame(columns=['tweet',\n                                   'hashtag',\n                                   'location',\n                                   'time'])\n \n        # We are using .Cursor() to search\n        # through twitter for the required tweets.\n        n = duration\n        end_time = datetime.datetime.utcnow()\n        start_time = end_time - relativedelta(minutes=n)\n\n        # Search for tweets containing a certain keyword, within the time window\n        search_results = tweepy.Cursor(api.search_tweets,                          \n              q='keyword', # replace 'keyword' with the term you want to search for\n              since_id=None,\n              count=100,\n              result_type='recent',\n              include_entities=True,\n              lang='en').items()\n        for tweet in search_results:\n            tweet_time = tweet.created_at\n            if start_time <= tweet_time <= end_time:    \n                tweets = tweepy.Cursor(api.search_tweets,\n                               keywordSearch, lang=\"en\",\n                               location,\n                               tweet_mode='extended')\n \n \n        # .Cursor() returns an iterable object. Each item in\n        # the iterator has various attributes\n        # that you can access to\n        # get information about each tweet\n        list_tweets = [tweet for tweet in tweets]\n \n        # Counter to maintain Tweet Count\n        i = 1\n \n        # we will iterate over each tweet in the\n        # list for extracting information about each tweet\n        for tweet in list_tweets:\n                hashtags = tweet.entities['hashtags']\n                location = tweet.user.location\n                time = tweet.time\n \n                # Here we are appending all the\n                # extracted information in the DataFrame\n                ith_tweet = [tweet, hashtag\n                             location, time]\n                db.loc[len(db)] = ith_tweet\n \n                # Function call to print tweet data on screen\n                printtweetdata(i, ith_tweet)\n                i = i+1\n        filename = 'scraped_tweets.csv'\n \n        # we will save our database as a CSV file.\n        db.to_csv(filename)\n \nif __name__ == '__main__':\n \n        # Enter your own credentials obtained\n        # from your developer account\n        consumer_key = \"..........\"\n        consumer_secret = \"..........\"\n        access_key = \"...........\"\n        access_secret = \"...........\"\n \n \n        auth = tweepy.OAuthHandler(consumer_key, consumer_secret)\n        auth.set_access_token(access_key, access_secret)\n        api = tweepy.API(auth)",
      "metadata": {
        "trusted": true
      },
      "execution_count": 8,
      "outputs": [
        {
          "ename": "<class 'SyntaxError'>",
          "evalue": "positional argument follows keyword argument (<ipython-input-9-2409013cdf85>, line 29)",
          "traceback": [
            "\u001b[0;36m  Cell \u001b[0;32mIn[9], line 29\u001b[0;36m\u001b[0m\n\u001b[0;31m    location)\u001b[0m\n\u001b[0m            ^\u001b[0m\n\u001b[0;31mSyntaxError\u001b[0m\u001b[0;31m:\u001b[0m positional argument follows keyword argument\n"
          ],
          "output_type": "error"
        }
      ]
    }
  ]
}